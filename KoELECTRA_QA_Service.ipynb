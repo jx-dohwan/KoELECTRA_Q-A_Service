{
  "nbformat": 4,
  "nbformat_minor": 0,
  "metadata": {
    "colab": {
      "provenance": []
    },
    "kernelspec": {
      "name": "python3",
      "display_name": "Python 3"
    },
    "language_info": {
      "name": "python"
    }
  },
  "cells": [
    {
      "cell_type": "code",
      "execution_count": 2,
      "metadata": {
        "colab": {
          "base_uri": "https://localhost:8080/"
        },
        "id": "HbSsyvdGHVkJ",
        "outputId": "c9d9c040-b402-4de7-aa18-e384c55b113a"
      },
      "outputs": [
        {
          "output_type": "stream",
          "name": "stdout",
          "text": [
            "Looking in indexes: https://pypi.org/simple, https://us-python.pkg.dev/colab-wheels/public/simple/\n",
            "Collecting attrdict\n",
            "  Downloading attrdict-2.0.1-py2.py3-none-any.whl (9.9 kB)\n",
            "Requirement already satisfied: six in /usr/local/lib/python3.9/dist-packages (from attrdict) (1.15.0)\n",
            "Installing collected packages: attrdict\n",
            "Successfully installed attrdict-2.0.1\n"
          ]
        }
      ],
      "source": [
        "pip install attrdict"
      ]
    },
    {
      "cell_type": "code",
      "source": [
        "from attrdict import AttrDict\n",
        "import sys\n",
        "sys.path.append('/content/drive/MyDrive/인공지능/koelectra_qa_service/data_prepare')\n",
        "import data_preparing_utils\n",
        "import argparse\n",
        "import json\n",
        "import os"
      ],
      "metadata": {
        "id": "2L7NsUbKIo7r"
      },
      "execution_count": 4,
      "outputs": []
    },
    {
      "cell_type": "code",
      "source": [],
      "metadata": {
        "id": "0HvRN74yIwY3"
      },
      "execution_count": null,
      "outputs": []
    }
  ]
}