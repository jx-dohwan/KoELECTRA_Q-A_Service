{
  "nbformat": 4,
  "nbformat_minor": 0,
  "metadata": {
    "colab": {
      "provenance": []
    },
    "kernelspec": {
      "name": "python3",
      "display_name": "Python 3"
    },
    "language_info": {
      "name": "python"
    }
  },
  "cells": [
    {
      "cell_type": "code",
      "source": [
        "import os"
      ],
      "metadata": {
        "id": "wERjKQJjj-LP"
      },
      "execution_count": 4,
      "outputs": []
    },
    {
      "cell_type": "markdown",
      "source": [
        "## 데이터 "
      ],
      "metadata": {
        "id": "QDIRP_q2AP_Z"
      }
    },
    {
      "cell_type": "code",
      "source": [
        "# !unzip /content/drive/MyDrive/인공지능/koelectra_qa_service/data/TL_multiple_choice.zip -d /content/drive/MyDrive/인공지능/koelectra_qa_service/data\n",
        "# !unzip /content/drive/MyDrive/인공지능/koelectra_qa_service/data/TL_span_extraction.zip -d /content/drive/MyDrive/인공지능/koelectra_qa_service/data\n",
        "# !unzip /content/drive/MyDrive/인공지능/koelectra_qa_service/data/TL_span_extraction_how.zip -d /content/drive/MyDrive/인공지능/koelectra_qa_service/data\n",
        "# !unzip /content/drive/MyDrive/인공지능/koelectra_qa_service/data/TL_tableqa.zip -d /content/drive/MyDrive/인공지능/koelectra_qa_service/data\n",
        "# !unzip /content/drive/MyDrive/인공지능/koelectra_qa_service/data/TL_text_entailment.zip -d /content/drive/MyDrive/인공지능/koelectra_qa_service/data\n",
        "# !unzip /content/drive/MyDrive/인공지능/koelectra_qa_service/data/TL_unanswerable.zip -d /content/drive/MyDrive/인공지능/koelectra_qa_service/data"
      ],
      "metadata": {
        "colab": {
          "base_uri": "https://localhost:8080/"
        },
        "id": "2R5SMKA_j8WT",
        "outputId": "f4cd0833-e5ea-49f0-849d-0ba48c8265d2"
      },
      "execution_count": 6,
      "outputs": [
        {
          "output_type": "stream",
          "name": "stdout",
          "text": [
            "Archive:  /content/drive/MyDrive/인공지능/koelectra_qa_service/data/TL_multiple_choice.zip\n",
            "  inflating: /content/drive/MyDrive/인공지능/koelectra_qa_service/data/TL_multiple_choice.json  \n",
            "Archive:  /content/drive/MyDrive/인공지능/koelectra_qa_service/data/TL_span_extraction.zip\n",
            "  inflating: /content/drive/MyDrive/인공지능/koelectra_qa_service/data/TL_span_extraction.json  \n",
            "Archive:  /content/drive/MyDrive/인공지능/koelectra_qa_service/data/TL_span_extraction_how.zip\n",
            "  inflating: /content/drive/MyDrive/인공지능/koelectra_qa_service/data/TL_span_extraction_how.json  \n",
            "Archive:  /content/drive/MyDrive/인공지능/koelectra_qa_service/data/TL_tableqa.zip\n",
            "  inflating: /content/drive/MyDrive/인공지능/koelectra_qa_service/data/TL_tableqa.json  \n",
            "Archive:  /content/drive/MyDrive/인공지능/koelectra_qa_service/data/TL_text_entailment.zip\n",
            "  inflating: /content/drive/MyDrive/인공지능/koelectra_qa_service/data/TL_text_entailment.json  \n",
            "Archive:  /content/drive/MyDrive/인공지능/koelectra_qa_service/data/TL_unanswerable.zip\n",
            "  inflating: /content/drive/MyDrive/인공지능/koelectra_qa_service/data/TL_unanswerable.json  \n"
          ]
        }
      ]
    },
    {
      "cell_type": "code",
      "source": [
        "# !unzip /content/drive/MyDrive/인공지능/koelectra_qa_service/data/VL_multiple_choice.zip -d /content/drive/MyDrive/인공지능/koelectra_qa_service/data\n",
        "# !unzip /content/drive/MyDrive/인공지능/koelectra_qa_service/data/VL_span_extraction.zip -d /content/drive/MyDrive/인공지능/koelectra_qa_service/data\n",
        "# !unzip /content/drive/MyDrive/인공지능/koelectra_qa_service/data/VL_span_extraction_how.zip -d /content/drive/MyDrive/인공지능/koelectra_qa_service/data\n",
        "# !unzip /content/drive/MyDrive/인공지능/koelectra_qa_service/data/VL_tableqa.zip -d /content/drive/MyDrive/인공지능/koelectra_qa_service/data\n",
        "# !unzip /content/drive/MyDrive/인공지능/koelectra_qa_service/data/VL_text_entailment.zip -d /content/drive/MyDrive/인공지능/koelectra_qa_service/data\n",
        "# !unzip /content/drive/MyDrive/인공지능/koelectra_qa_service/data/VL_unanswerable.zip -d /content/drive/MyDrive/인공지능/koelectra_qa_service/data"
      ],
      "metadata": {
        "colab": {
          "base_uri": "https://localhost:8080/"
        },
        "id": "XFjGNM6F3-bm",
        "outputId": "ddcd8849-69e6-4e62-9f71-faaf8f31181f"
      },
      "execution_count": 9,
      "outputs": [
        {
          "output_type": "stream",
          "name": "stdout",
          "text": [
            "Archive:  /content/drive/MyDrive/인공지능/koelectra_qa_service/data/VL_multiple_choice.zip\n",
            "  inflating: /content/drive/MyDrive/인공지능/koelectra_qa_service/data/VL_multiple_choice.json  \n",
            "Archive:  /content/drive/MyDrive/인공지능/koelectra_qa_service/data/VL_span_extraction.zip\n",
            "  inflating: /content/drive/MyDrive/인공지능/koelectra_qa_service/data/VL_span_extraction.json  \n",
            "Archive:  /content/drive/MyDrive/인공지능/koelectra_qa_service/data/VL_span_extraction_how.zip\n",
            "  inflating: /content/drive/MyDrive/인공지능/koelectra_qa_service/data/VL_span_extraction_how.json  \n",
            "Archive:  /content/drive/MyDrive/인공지능/koelectra_qa_service/data/VL_tableqa.zip\n",
            "  inflating: /content/drive/MyDrive/인공지능/koelectra_qa_service/data/VL_tableqa.json  \n",
            "Archive:  /content/drive/MyDrive/인공지능/koelectra_qa_service/data/VL_text_entailment.zip\n",
            "  inflating: /content/drive/MyDrive/인공지능/koelectra_qa_service/data/VL_text_entailment.json  \n",
            "Archive:  /content/drive/MyDrive/인공지능/koelectra_qa_service/data/VL_unanswerable.zip\n",
            "  inflating: /content/drive/MyDrive/인공지능/koelectra_qa_service/data/VL_unanswerable.json  \n"
          ]
        }
      ]
    },
    {
      "cell_type": "code",
      "source": [
        "!cat /content/drive/MyDrive/인공지능/koelectra_qa_service/config/data_prepare.json"
      ],
      "metadata": {
        "id": "0HvRN74yIwY3",
        "colab": {
          "base_uri": "https://localhost:8080/"
        },
        "outputId": "dcb92475-9299-420a-e744-74b61ab3912d"
      },
      "execution_count": 7,
      "outputs": [
        {
          "output_type": "stream",
          "name": "stdout",
          "text": [
            "{\r\n",
            "  \"datatype_keywords\": {\r\n",
            "    \"정답경계 추출형\": \"span_extraction\",\r\n",
            "    \"Table 정답추출형\": \"tableqa\",\r\n",
            "    \"절차(방법)\": \"span_extraction_how\",\r\n",
            "    \"응답 불가형\": \"unanswerable\",\r\n",
            "    \"Yes/No 단문형\": \"text_entailment\",\r\n",
            "    \"다지선다형(추론형)\": \"multiple_choice\"\r\n",
            "  },\r\n",
            "  \"data_dir\": \"{/content/drive/MyDrive/인공지능/koelectra_qa_service/data}\",\r\n",
            "  \"save_dir\": \"{/content/drive/MyDrive/인공지능/koelectra_qa_service/data/data_prepare}\",\r\n",
            "  \"data_filename_list\": {\r\n",
            "    \"span_extraction\": [\r\n",
            "      \"TL_span_extraction.json\",\r\n",
            "      \"VL_span_extraction.json\",\r\n",
            "      \"merged_data_admin_answer_span_family.json\"\r\n",
            "    ],\r\n",
            "    \"tableqa\": [\r\n",
            "      \"TL_tableqa.json\",\r\n",
            "      \"VL_tableqa.json\"\r\n",
            "    ],\r\n",
            "    \"span_extraction_how\": [\r\n",
            "      \"TL_span_extraction_how.json\",\r\n",
            "      \"VL_span_extraction_how.json\"\r\n",
            "    ],\r\n",
            "    \"unanswerable\": [\r\n",
            "      \"TL_unanswerable.json\",\r\n",
            "      \"VL_unanswerable.json\"\r\n",
            "    ],\r\n",
            "    \"text_entailment\": [\r\n",
            "      \"TL_text_entailment.json\",\r\n",
            "      \"VL_text_entailment.json\"\r\n",
            "    ],\r\n",
            "    \"multiple_choice\": [\r\n",
            "      \"shuffled_TL_multiple_choice.json\",\r\n",
            "      \"shuffled_VL_multiple_choice.json\"\r\n",
            "    ]\r\n",
            "  }\r\n",
            "}"
          ]
        }
      ]
    },
    {
      "cell_type": "code",
      "source": [
        "os.listdir(\"/content/drive/MyDrive/인공지능/koelectra_qa_service/data\")"
      ],
      "metadata": {
        "colab": {
          "base_uri": "https://localhost:8080/"
        },
        "id": "sis0LH4K4r6Z",
        "outputId": "6c078ab8-0fa1-47bb-b50f-b8a873dba5aa"
      },
      "execution_count": 12,
      "outputs": [
        {
          "output_type": "execute_result",
          "data": {
            "text/plain": [
              "['TL_multiple_choice.json',\n",
              " 'TL_span_extraction.json',\n",
              " 'TL_span_extraction_how.json',\n",
              " 'TL_tableqa.json',\n",
              " 'TL_text_entailment.json',\n",
              " 'TL_unanswerable.json',\n",
              " 'VL_multiple_choice.json',\n",
              " 'VL_span_extraction.json',\n",
              " 'VL_span_extraction_how.json',\n",
              " 'VL_tableqa.json',\n",
              " 'VL_text_entailment.json',\n",
              " 'VL_unanswerable.json']"
            ]
          },
          "metadata": {},
          "execution_count": 12
        }
      ]
    },
    {
      "cell_type": "code",
      "execution_count": 1,
      "metadata": {
        "colab": {
          "base_uri": "https://localhost:8080/"
        },
        "id": "HbSsyvdGHVkJ",
        "outputId": "48b17273-b3fb-4e7e-b837-d2eb62107d32"
      },
      "outputs": [
        {
          "output_type": "stream",
          "name": "stdout",
          "text": [
            "Looking in indexes: https://pypi.org/simple, https://us-python.pkg.dev/colab-wheels/public/simple/\n",
            "Collecting attrdict\n",
            "  Downloading attrdict-2.0.1-py2.py3-none-any.whl (9.9 kB)\n",
            "Requirement already satisfied: six in /usr/local/lib/python3.9/dist-packages (from attrdict) (1.15.0)\n",
            "Installing collected packages: attrdict\n",
            "Successfully installed attrdict-2.0.1\n"
          ]
        }
      ],
      "source": [
        "pip install attrdict"
      ]
    },
    {
      "cell_type": "code",
      "source": [],
      "metadata": {
        "id": "Riw-QmeN1Cdq"
      },
      "execution_count": null,
      "outputs": []
    }
  ]
}